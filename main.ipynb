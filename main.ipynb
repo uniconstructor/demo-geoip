{
 "cells": [
  {
   "cell_type": "code",
   "execution_count": 1,
   "id": "81224d77",
   "metadata": {},
   "outputs": [
    {
     "data": {
      "text/html": [
       "<pre style=\"white-space:pre;overflow-x:auto;line-height:normal;font-family:Menlo,'DejaVu Sans Mono',consolas,'Courier New',monospace\"><span style=\"color: #800080; text-decoration-color: #800080; font-weight: bold\">geoip2.models.City</span><span style=\"font-weight: bold\">([</span><span style=\"color: #008000; text-decoration-color: #008000\">'en'</span><span style=\"font-weight: bold\">]</span>, <span style=\"color: #808000; text-decoration-color: #808000\">continent</span>=<span style=\"font-weight: bold\">{</span><span style=\"color: #008000; text-decoration-color: #008000\">'code'</span>: <span style=\"color: #008000; text-decoration-color: #008000\">'EU'</span>, <span style=\"color: #008000; text-decoration-color: #008000\">'geoname_id'</span>: <span style=\"color: #008080; text-decoration-color: #008080; font-weight: bold\">6255148</span>, <span style=\"color: #008000; text-decoration-color: #008000\">'names'</span>: <span style=\"font-weight: bold\">{</span><span style=\"color: #008000; text-decoration-color: #008000\">'de'</span>: <span style=\"color: #008000; text-decoration-color: #008000\">'Europa'</span>, <span style=\"color: #008000; text-decoration-color: #008000\">'en'</span>: \n",
       "<span style=\"color: #008000; text-decoration-color: #008000\">'Europe'</span>, <span style=\"color: #008000; text-decoration-color: #008000\">'es'</span>: <span style=\"color: #008000; text-decoration-color: #008000\">'Europa'</span>, <span style=\"color: #008000; text-decoration-color: #008000\">'fr'</span>: <span style=\"color: #008000; text-decoration-color: #008000\">'Europe'</span>, <span style=\"color: #008000; text-decoration-color: #008000\">'ja'</span>: <span style=\"color: #008000; text-decoration-color: #008000\">'ヨーロッパ'</span>, <span style=\"color: #008000; text-decoration-color: #008000\">'pt-BR'</span>: <span style=\"color: #008000; text-decoration-color: #008000\">'Europa'</span>, <span style=\"color: #008000; text-decoration-color: #008000\">'ru'</span>: <span style=\"color: #008000; text-decoration-color: #008000\">'Европа'</span>, <span style=\"color: #008000; text-decoration-color: #008000\">'zh-CN'</span>: <span style=\"color: #008000; text-decoration-color: #008000\">'欧洲'</span><span style=\"font-weight: bold\">}}</span>,\n",
       "<span style=\"color: #808000; text-decoration-color: #808000\">country</span>=<span style=\"font-weight: bold\">{</span><span style=\"color: #008000; text-decoration-color: #008000\">'geoname_id'</span>: <span style=\"color: #008080; text-decoration-color: #008080; font-weight: bold\">2017370</span>, <span style=\"color: #008000; text-decoration-color: #008000\">'iso_code'</span>: <span style=\"color: #008000; text-decoration-color: #008000\">'RU'</span>, <span style=\"color: #008000; text-decoration-color: #008000\">'names'</span>: <span style=\"font-weight: bold\">{</span><span style=\"color: #008000; text-decoration-color: #008000\">'de'</span>: <span style=\"color: #008000; text-decoration-color: #008000\">'Russland'</span>, <span style=\"color: #008000; text-decoration-color: #008000\">'en'</span>: <span style=\"color: #008000; text-decoration-color: #008000\">'Russia'</span>, <span style=\"color: #008000; text-decoration-color: #008000\">'es'</span>: <span style=\"color: #008000; text-decoration-color: #008000\">'Rusia'</span>, <span style=\"color: #008000; text-decoration-color: #008000\">'fr'</span>: \n",
       "<span style=\"color: #008000; text-decoration-color: #008000\">'Russie'</span>, <span style=\"color: #008000; text-decoration-color: #008000\">'ja'</span>: <span style=\"color: #008000; text-decoration-color: #008000\">'ロシア'</span>, <span style=\"color: #008000; text-decoration-color: #008000\">'pt-BR'</span>: <span style=\"color: #008000; text-decoration-color: #008000\">'Rússia'</span>, <span style=\"color: #008000; text-decoration-color: #008000\">'ru'</span>: <span style=\"color: #008000; text-decoration-color: #008000\">'Россия'</span>, <span style=\"color: #008000; text-decoration-color: #008000\">'zh-CN'</span>: <span style=\"color: #008000; text-decoration-color: #008000\">'俄罗斯联邦'</span><span style=\"font-weight: bold\">}}</span>, \n",
       "<span style=\"color: #808000; text-decoration-color: #808000\">registered_country</span>=<span style=\"font-weight: bold\">{</span><span style=\"color: #008000; text-decoration-color: #008000\">'geoname_id'</span>: <span style=\"color: #008080; text-decoration-color: #008080; font-weight: bold\">2017370</span>, <span style=\"color: #008000; text-decoration-color: #008000\">'iso_code'</span>: <span style=\"color: #008000; text-decoration-color: #008000\">'RU'</span>, <span style=\"color: #008000; text-decoration-color: #008000\">'names'</span>: <span style=\"font-weight: bold\">{</span><span style=\"color: #008000; text-decoration-color: #008000\">'de'</span>: <span style=\"color: #008000; text-decoration-color: #008000\">'Russland'</span>, <span style=\"color: #008000; text-decoration-color: #008000\">'en'</span>: <span style=\"color: #008000; text-decoration-color: #008000\">'Russia'</span>, <span style=\"color: #008000; text-decoration-color: #008000\">'es'</span>: \n",
       "<span style=\"color: #008000; text-decoration-color: #008000\">'Rusia'</span>, <span style=\"color: #008000; text-decoration-color: #008000\">'fr'</span>: <span style=\"color: #008000; text-decoration-color: #008000\">'Russie'</span>, <span style=\"color: #008000; text-decoration-color: #008000\">'ja'</span>: <span style=\"color: #008000; text-decoration-color: #008000\">'ロシア'</span>, <span style=\"color: #008000; text-decoration-color: #008000\">'pt-BR'</span>: <span style=\"color: #008000; text-decoration-color: #008000\">'Rússia'</span>, <span style=\"color: #008000; text-decoration-color: #008000\">'ru'</span>: <span style=\"color: #008000; text-decoration-color: #008000\">'Россия'</span>, <span style=\"color: #008000; text-decoration-color: #008000\">'zh-CN'</span>: <span style=\"color: #008000; text-decoration-color: #008000\">'俄罗斯联邦'</span><span style=\"font-weight: bold\">}}</span>, \n",
       "<span style=\"color: #808000; text-decoration-color: #808000\">traits</span>=<span style=\"font-weight: bold\">{</span><span style=\"color: #008000; text-decoration-color: #008000\">'ip_address'</span>: <span style=\"color: #008000; text-decoration-color: #008000\">'178.205.8.107'</span>, <span style=\"color: #008000; text-decoration-color: #008000\">'network'</span>: <span style=\"color: #008000; text-decoration-color: #008000\">'178.205.0.0/20'</span><span style=\"font-weight: bold\">}</span>, <span style=\"color: #808000; text-decoration-color: #808000\">city</span>=<span style=\"font-weight: bold\">{</span><span style=\"color: #008000; text-decoration-color: #008000\">'geoname_id'</span>: <span style=\"color: #008080; text-decoration-color: #008080; font-weight: bold\">463835</span>, <span style=\"color: #008000; text-decoration-color: #008000\">'names'</span>: <span style=\"font-weight: bold\">{</span><span style=\"color: #008000; text-decoration-color: #008000\">'de'</span>: \n",
       "<span style=\"color: #008000; text-decoration-color: #008000\">'Selenodolsk'</span>, <span style=\"color: #008000; text-decoration-color: #008000\">'en'</span>: <span style=\"color: #008000; text-decoration-color: #008000\">'Zelenodolsk'</span>, <span style=\"color: #008000; text-decoration-color: #008000\">'ja'</span>: <span style=\"color: #008000; text-decoration-color: #008000\">'ゼレノドリスク'</span>, <span style=\"color: #008000; text-decoration-color: #008000\">'ru'</span>: <span style=\"color: #008000; text-decoration-color: #008000\">'Зеленодольск'</span>, <span style=\"color: #008000; text-decoration-color: #008000\">'zh-CN'</span>: <span style=\"color: #008000; text-decoration-color: #008000\">'泽列诺多尔斯克'</span><span style=\"font-weight: bold\">}}</span>, \n",
       "<span style=\"color: #808000; text-decoration-color: #808000\">location</span>=<span style=\"font-weight: bold\">{</span><span style=\"color: #008000; text-decoration-color: #008000\">'accuracy_radius'</span>: <span style=\"color: #008080; text-decoration-color: #008080; font-weight: bold\">50</span>, <span style=\"color: #008000; text-decoration-color: #008000\">'latitude'</span>: <span style=\"color: #008080; text-decoration-color: #008080; font-weight: bold\">55.841</span>, <span style=\"color: #008000; text-decoration-color: #008000\">'longitude'</span>: <span style=\"color: #008080; text-decoration-color: #008080; font-weight: bold\">48.5158</span>, <span style=\"color: #008000; text-decoration-color: #008000\">'time_zone'</span>: <span style=\"color: #008000; text-decoration-color: #008000\">'Europe/Moscow'</span><span style=\"font-weight: bold\">}</span>, \n",
       "<span style=\"color: #808000; text-decoration-color: #808000\">postal</span>=<span style=\"font-weight: bold\">{</span><span style=\"color: #008000; text-decoration-color: #008000\">'code'</span>: <span style=\"color: #008000; text-decoration-color: #008000\">'422542'</span><span style=\"font-weight: bold\">}</span>, <span style=\"color: #808000; text-decoration-color: #808000\">subdivisions</span>=<span style=\"font-weight: bold\">[{</span><span style=\"color: #008000; text-decoration-color: #008000\">'geoname_id'</span>: <span style=\"color: #008080; text-decoration-color: #008080; font-weight: bold\">484048</span>, <span style=\"color: #008000; text-decoration-color: #008000\">'iso_code'</span>: <span style=\"color: #008000; text-decoration-color: #008000\">'TA'</span>, <span style=\"color: #008000; text-decoration-color: #008000\">'names'</span>: <span style=\"font-weight: bold\">{</span><span style=\"color: #008000; text-decoration-color: #008000\">'de'</span>: <span style=\"color: #008000; text-decoration-color: #008000\">'Tatarstan'</span>, \n",
       "<span style=\"color: #008000; text-decoration-color: #008000\">'en'</span>: <span style=\"color: #008000; text-decoration-color: #008000\">'Tatarstan Republic'</span>, <span style=\"color: #008000; text-decoration-color: #008000\">'es'</span>: <span style=\"color: #008000; text-decoration-color: #008000\">'Tartaristan'</span>, <span style=\"color: #008000; text-decoration-color: #008000\">'fr'</span>: <span style=\"color: #008000; text-decoration-color: #008000\">'République de Tatarstan'</span>, <span style=\"color: #008000; text-decoration-color: #008000\">'pt-BR'</span>: <span style=\"color: #008000; text-decoration-color: #008000\">'Tartaristão'</span>, <span style=\"color: #008000; text-decoration-color: #008000\">'ru'</span>: \n",
       "<span style=\"color: #008000; text-decoration-color: #008000\">'Татарстан'</span><span style=\"font-weight: bold\">}}])</span>\n",
       "</pre>\n"
      ],
      "text/plain": [
       "\u001b[1;35mgeoip2.models.City\u001b[0m\u001b[1m(\u001b[0m\u001b[1m[\u001b[0m\u001b[32m'en'\u001b[0m\u001b[1m]\u001b[0m, \u001b[33mcontinent\u001b[0m=\u001b[1m{\u001b[0m\u001b[32m'code'\u001b[0m: \u001b[32m'EU'\u001b[0m, \u001b[32m'geoname_id'\u001b[0m: \u001b[1;36m6255148\u001b[0m, \u001b[32m'names'\u001b[0m: \u001b[1m{\u001b[0m\u001b[32m'de'\u001b[0m: \u001b[32m'Europa'\u001b[0m, \u001b[32m'en'\u001b[0m: \n",
       "\u001b[32m'Europe'\u001b[0m, \u001b[32m'es'\u001b[0m: \u001b[32m'Europa'\u001b[0m, \u001b[32m'fr'\u001b[0m: \u001b[32m'Europe'\u001b[0m, \u001b[32m'ja'\u001b[0m: \u001b[32m'ヨーロッパ'\u001b[0m, \u001b[32m'pt-BR'\u001b[0m: \u001b[32m'Europa'\u001b[0m, \u001b[32m'ru'\u001b[0m: \u001b[32m'Европа'\u001b[0m, \u001b[32m'zh-CN'\u001b[0m: \u001b[32m'欧洲'\u001b[0m\u001b[1m}\u001b[0m\u001b[1m}\u001b[0m,\n",
       "\u001b[33mcountry\u001b[0m=\u001b[1m{\u001b[0m\u001b[32m'geoname_id'\u001b[0m: \u001b[1;36m2017370\u001b[0m, \u001b[32m'iso_code'\u001b[0m: \u001b[32m'RU'\u001b[0m, \u001b[32m'names'\u001b[0m: \u001b[1m{\u001b[0m\u001b[32m'de'\u001b[0m: \u001b[32m'Russland'\u001b[0m, \u001b[32m'en'\u001b[0m: \u001b[32m'Russia'\u001b[0m, \u001b[32m'es'\u001b[0m: \u001b[32m'Rusia'\u001b[0m, \u001b[32m'fr'\u001b[0m: \n",
       "\u001b[32m'Russie'\u001b[0m, \u001b[32m'ja'\u001b[0m: \u001b[32m'ロシア'\u001b[0m, \u001b[32m'pt-BR'\u001b[0m: \u001b[32m'Rússia'\u001b[0m, \u001b[32m'ru'\u001b[0m: \u001b[32m'Россия'\u001b[0m, \u001b[32m'zh-CN'\u001b[0m: \u001b[32m'俄罗斯联邦'\u001b[0m\u001b[1m}\u001b[0m\u001b[1m}\u001b[0m, \n",
       "\u001b[33mregistered_country\u001b[0m=\u001b[1m{\u001b[0m\u001b[32m'geoname_id'\u001b[0m: \u001b[1;36m2017370\u001b[0m, \u001b[32m'iso_code'\u001b[0m: \u001b[32m'RU'\u001b[0m, \u001b[32m'names'\u001b[0m: \u001b[1m{\u001b[0m\u001b[32m'de'\u001b[0m: \u001b[32m'Russland'\u001b[0m, \u001b[32m'en'\u001b[0m: \u001b[32m'Russia'\u001b[0m, \u001b[32m'es'\u001b[0m: \n",
       "\u001b[32m'Rusia'\u001b[0m, \u001b[32m'fr'\u001b[0m: \u001b[32m'Russie'\u001b[0m, \u001b[32m'ja'\u001b[0m: \u001b[32m'ロシア'\u001b[0m, \u001b[32m'pt-BR'\u001b[0m: \u001b[32m'Rússia'\u001b[0m, \u001b[32m'ru'\u001b[0m: \u001b[32m'Россия'\u001b[0m, \u001b[32m'zh-CN'\u001b[0m: \u001b[32m'俄罗斯联邦'\u001b[0m\u001b[1m}\u001b[0m\u001b[1m}\u001b[0m, \n",
       "\u001b[33mtraits\u001b[0m=\u001b[1m{\u001b[0m\u001b[32m'ip_address'\u001b[0m: \u001b[32m'178.205.8.107'\u001b[0m, \u001b[32m'network'\u001b[0m: \u001b[32m'178.205.0.0/20'\u001b[0m\u001b[1m}\u001b[0m, \u001b[33mcity\u001b[0m=\u001b[1m{\u001b[0m\u001b[32m'geoname_id'\u001b[0m: \u001b[1;36m463835\u001b[0m, \u001b[32m'names'\u001b[0m: \u001b[1m{\u001b[0m\u001b[32m'de'\u001b[0m: \n",
       "\u001b[32m'Selenodolsk'\u001b[0m, \u001b[32m'en'\u001b[0m: \u001b[32m'Zelenodolsk'\u001b[0m, \u001b[32m'ja'\u001b[0m: \u001b[32m'ゼレノドリスク'\u001b[0m, \u001b[32m'ru'\u001b[0m: \u001b[32m'Зеленодольск'\u001b[0m, \u001b[32m'zh-CN'\u001b[0m: \u001b[32m'泽列诺多尔斯克'\u001b[0m\u001b[1m}\u001b[0m\u001b[1m}\u001b[0m, \n",
       "\u001b[33mlocation\u001b[0m=\u001b[1m{\u001b[0m\u001b[32m'accuracy_radius'\u001b[0m: \u001b[1;36m50\u001b[0m, \u001b[32m'latitude'\u001b[0m: \u001b[1;36m55.841\u001b[0m, \u001b[32m'longitude'\u001b[0m: \u001b[1;36m48.5158\u001b[0m, \u001b[32m'time_zone'\u001b[0m: \u001b[32m'Europe/Moscow'\u001b[0m\u001b[1m}\u001b[0m, \n",
       "\u001b[33mpostal\u001b[0m=\u001b[1m{\u001b[0m\u001b[32m'code'\u001b[0m: \u001b[32m'422542'\u001b[0m\u001b[1m}\u001b[0m, \u001b[33msubdivisions\u001b[0m=\u001b[1m[\u001b[0m\u001b[1m{\u001b[0m\u001b[32m'geoname_id'\u001b[0m: \u001b[1;36m484048\u001b[0m, \u001b[32m'iso_code'\u001b[0m: \u001b[32m'TA'\u001b[0m, \u001b[32m'names'\u001b[0m: \u001b[1m{\u001b[0m\u001b[32m'de'\u001b[0m: \u001b[32m'Tatarstan'\u001b[0m, \n",
       "\u001b[32m'en'\u001b[0m: \u001b[32m'Tatarstan Republic'\u001b[0m, \u001b[32m'es'\u001b[0m: \u001b[32m'Tartaristan'\u001b[0m, \u001b[32m'fr'\u001b[0m: \u001b[32m'République de Tatarstan'\u001b[0m, \u001b[32m'pt-BR'\u001b[0m: \u001b[32m'Tartaristão'\u001b[0m, \u001b[32m'ru'\u001b[0m: \n",
       "\u001b[32m'Татарстан'\u001b[0m\u001b[1m}\u001b[0m\u001b[1m}\u001b[0m\u001b[1m]\u001b[0m\u001b[1m)\u001b[0m\n"
      ]
     },
     "metadata": {},
     "output_type": "display_data"
    },
    {
     "data": {
      "text/html": [
       "<pre style=\"white-space:pre;overflow-x:auto;line-height:normal;font-family:Menlo,'DejaVu Sans Mono',consolas,'Courier New',monospace\">Зеленодольск\n",
       "</pre>\n"
      ],
      "text/plain": [
       "Зеленодольск\n"
      ]
     },
     "metadata": {},
     "output_type": "display_data"
    }
   ],
   "source": [
    "from rich import print\n",
    "import geoip2.database\n",
    "with geoip2.database.Reader('GeoLite2-City.mmdb') as reader:\n",
    "    response = reader.city('178.205.8.107')\n",
    "    print(response)\n",
    "    print(response.city.names['ru'])"
   ]
  }
 ],
 "metadata": {
  "kernelspec": {
   "display_name": "Python 3",
   "language": "python",
   "name": "python3"
  },
  "language_info": {
   "codemirror_mode": {
    "name": "ipython",
    "version": 3
   },
   "file_extension": ".py",
   "mimetype": "text/x-python",
   "name": "python",
   "nbconvert_exporter": "python",
   "pygments_lexer": "ipython3",
   "version": "3.10.12"
  }
 },
 "nbformat": 4,
 "nbformat_minor": 5
}
